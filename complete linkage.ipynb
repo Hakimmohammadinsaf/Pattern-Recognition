{
 "cells": [
  {
   "cell_type": "code",
   "execution_count": null,
   "id": "1666a058",
   "metadata": {},
   "outputs": [],
   "source": []
  },
  {
   "cell_type": "code",
   "execution_count": 10,
   "id": "67196f41",
   "metadata": {},
   "outputs": [
    {
     "name": "stdout",
     "output_type": "stream",
     "text": [
      "\n",
      "Initial Distances:\n",
      "           Cluster 1  Cluster 2  Cluster 3  Cluster 4  Cluster 5\n",
      "Cluster 1   0.000000   4.000000  11.704700  20.000000  21.540659\n",
      "Cluster 2   4.000000   0.000000   8.062258  16.000000  17.888544\n",
      "Cluster 3  11.704700   8.062258   0.000000   9.848858   9.848858\n",
      "Cluster 4  20.000000  16.000000   9.848858   0.000000   8.000000\n",
      "Cluster 5  21.540659  17.888544   9.848858   8.000000   0.000000\n",
      "\n",
      "Iteration 1\n",
      "Merged Clusters: [[1, 2], [3], [4], [5]]\n",
      "Min Distance: 4.0\n",
      "\n",
      "Iteration 2\n",
      "Merged Clusters: [[1, 2], [3], [4, 5]]\n",
      "Min Distance: 8.0\n",
      "\n",
      "Iteration 3\n",
      "Merged Clusters: [[1, 2], [3, 4, 5]]\n",
      "Min Distance: 9.848857801796104\n",
      "\n",
      "Iteration 4\n",
      "Merged Clusters: [[1, 2, 3, 4, 5]]\n",
      "Min Distance: 21.540659228538015\n"
     ]
    },
    {
     "data": {
      "image/png": "[encoded data removed]",
      "text/plain": [
       "<Figure size 1000x500 with 1 Axes>"
      ]
     },
     "metadata": {},
     "output_type": "display_data"
    }
   ],
   "source": [
    "import numpy as np\n",
    "import pandas as pd\n",
    "import numpy as np\n",
    "from scipy.cluster.hierarchy import dendrogram, linkage\n",
    "import matplotlib.pyplot as plt\n",
    "\n",
    "def find_closest_clusters(distances):\n",
    "    min_distance = np.inf\n",
    "    closest_i, closest_j = -1, -1\n",
    "    size = len(distances)\n",
    "    for i in range(size):\n",
    "        for j in range(i + 1, size):\n",
    "            if distances[i][j] < min_distance:\n",
    "                min_distance = distances[i][j]\n",
    "                closest_i, closest_j = i, j\n",
    "    return closest_i, closest_j\n",
    "\n",
    "def complete_linkage_clustering(data):\n",
    "    num_points = len(data)\n",
    "    clusters = [[i] for i in range(1, num_points+1)]\n",
    "\n",
    "    # Compute initial pairwise distances\n",
    "    distances = np.zeros((num_points, num_points))\n",
    "    for i in range(num_points):\n",
    "        for j in range(i + 1, num_points):\n",
    "            distances[i][j] = np.linalg.norm(data[i] - data[j])\n",
    "            distances[j][i] = distances[i][j]\n",
    "\n",
    "    print(\"\\nInitial Distances:\")\n",
    "    print(pd.DataFrame(distances, index=[f\"Cluster {i+1}\" for i in range(num_points)],\n",
    "                      columns=[f\"Cluster {i+1}\" for i in range(num_points)]))\n",
    "\n",
    "    iteration = 1\n",
    "    while num_points > 1:\n",
    "        # Find the closest clusters\n",
    "        i, j = find_closest_clusters(distances)\n",
    "\n",
    "        # Merge the clusters\n",
    "        clusters[i].extend(clusters[j])\n",
    "        del clusters[j]\n",
    "\n",
    "        print(f\"\\nIteration {iteration}\")\n",
    "        print(\"Merged Clusters:\", clusters)\n",
    "        print(\"Min Distance:\", distances[i][j])\n",
    "\n",
    "        # Update pairwise distances\n",
    "        for k in range(num_points):\n",
    "            if k != i:\n",
    "                distances[i][k] = max(distances[i][k], distances[j][k])\n",
    "                distances[k][i] = distances[i][k]\n",
    "\n",
    "        # Remove the row and column corresponding to the merged cluster\n",
    "        distances = np.delete(distances, j, axis=0)\n",
    "        distances = np.delete(distances, j, axis=1)\n",
    "\n",
    "        num_points -= 1\n",
    "        iteration += 1\n",
    "\n",
    "    return clusters\n",
    "\n",
    "# Example usage with provided X and Y values\n",
    "X = [4, 8, 15, 24, 24]\n",
    "Y = [4, 4, 8, 4, 12]\n",
    "data = np.column_stack((X, Y))\n",
    "\n",
    "clusters = complete_linkage_clustering(data)\n",
    "\n",
    "# Add 1 to each data point index in the clusters\n",
    "clusters = [[i + 1 for i in cluster] for cluster in clusters]\n",
    "\n",
    "dist_matrix = data\n",
    "linkage_matrix = linkage(dist_matrix, method='complete')\n",
    "\n",
    "# Plot dendrogram\n",
    "plt.figure(figsize=(10, 5))\n",
    "dendrogram(linkage_matrix, labels=[str(x) for x in range(1, len(data)+1)], leaf_rotation=90)\n",
    "plt.title('Complete Linkage Clustering Dendrogram')\n",
    "plt.xlabel('Data Point Index')\n",
    "plt.ylabel('Distance')\n",
    "plt.show()\n"
   ]
  },
  {
   "cell_type": "code",
   "execution_count": null,
   "id": "953814d1",
   "metadata": {},
   "outputs": [],
   "source": []
  },
  {
   "cell_type": "code",
   "execution_count": null,
   "id": "6a47aff6",
   "metadata": {},
   "outputs": [],
   "source": []
  },
  {
   "cell_type": "code",
   "execution_count": null,
   "id": "e251bab8",
   "metadata": {},
   "outputs": [],
   "source": []
  }
 ],
 "metadata": {
  "kernelspec": {
   "display_name": "Python 3 (ipykernel)",
   "language": "python",
   "name": "python3"
  },
  "language_info": {
   "codemirror_mode": {
    "name": "ipython",
    "version": 3
   },
   "file_extension": ".py",
   "mimetype": "text/x-python",
   "name": "python",
   "nbconvert_exporter": "python",
   "pygments_lexer": "ipython3",
   "version": "3.10.9"
  }
 },
 "nbformat": 4,
 "nbformat_minor": 5
}
