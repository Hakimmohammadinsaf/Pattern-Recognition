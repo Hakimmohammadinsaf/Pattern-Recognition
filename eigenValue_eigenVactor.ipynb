{
 "cells": [
  {
   "cell_type": "code",
   "execution_count": 1,
   "id": "7bfc97fb",
   "metadata": {},
   "outputs": [
    {
     "name": "stdout",
     "output_type": "stream",
     "text": [
      "Eigenvalue 1: 6.0\n",
      "Eigenvector 1: 1.0\n",
      "Eigenvalue 2: [0.89442719 0.4472136 ]\n",
      "Eigenvector 2: [ 0.4472136  -0.89442719]\n"
     ]
    }
   ],
   "source": [
    "import numpy as np\n",
    "\n",
    "def find_eigenvalues_and_eigenvectors(matrix):\n",
    "    # Check if the input matrix is 2x2\n",
    "    if matrix.shape != (2, 2):\n",
    "        raise ValueError(\"Input matrix should be a 2x2 matrix.\")\n",
    "\n",
    "    # Extract elements from the matrix\n",
    "    a = matrix[0, 0]\n",
    "    b = matrix[0, 1]\n",
    "    c = matrix[1, 0]\n",
    "    d = matrix[1, 1]\n",
    "\n",
    "    # Calculate the coefficients of the characteristic equation\n",
    "    coefficient_a = 1\n",
    "    coefficient_b = -(a + d)\n",
    "    coefficient_c = a * d - b * c\n",
    "\n",
    "    # Calculate the discriminant of the quadratic equation\n",
    "    discriminant = coefficient_b**2 - 4 * coefficient_a * coefficient_c\n",
    "\n",
    "    # Calculate the eigenvalues using the quadratic formula\n",
    "    eigenvalue1 = (-coefficient_b + np.sqrt(discriminant)) / (2 * coefficient_a)\n",
    "    eigenvalue2 = (-coefficient_b - np.sqrt(discriminant)) / (2 * coefficient_a)\n",
    "\n",
    "    # Calculate the eigenvectors corresponding to the eigenvalues\n",
    "    eigenvector1 = np.array([b, eigenvalue1 - a])\n",
    "    eigenvector2 = np.array([b, eigenvalue2 - a])\n",
    "\n",
    "    # Normalize the eigenvectors\n",
    "    eigenvector1 /= np.linalg.norm(eigenvector1)\n",
    "    eigenvector2 /= np.linalg.norm(eigenvector2)\n",
    "\n",
    "    return (eigenvalue1, eigenvector1), (eigenvalue2, eigenvector2)\n",
    "\n",
    "# Example usage:\n",
    "A = np.array([[5, 2],\n",
    "              [2, 2]])\n",
    "eigenvalues, eigenvectors = find_eigenvalues_and_eigenvectors(A)\n",
    "print(\"Eigenvalue 1:\", eigenvalues[0])\n",
    "print(\"Eigenvector 1:\", eigenvectors[0])\n",
    "print(\"Eigenvalue 2:\", eigenvalues[1])\n",
    "print(\"Eigenvector 2:\", eigenvectors[1])\n"
   ]
  },
  {
   "cell_type": "code",
   "execution_count": null,
   "id": "e4f0c991",
   "metadata": {},
   "outputs": [],
   "source": []
  }
 ],
 "metadata": {
  "kernelspec": {
   "display_name": "Python 3 (ipykernel)",
   "language": "python",
   "name": "python3"
  },
  "language_info": {
   "codemirror_mode": {
    "name": "ipython",
    "version": 3
   },
   "file_extension": ".py",
   "mimetype": "text/x-python",
   "name": "python",
   "nbconvert_exporter": "python",
   "pygments_lexer": "ipython3",
   "version": "3.10.9"
  }
 },
 "nbformat": 4,
 "nbformat_minor": 5
}
